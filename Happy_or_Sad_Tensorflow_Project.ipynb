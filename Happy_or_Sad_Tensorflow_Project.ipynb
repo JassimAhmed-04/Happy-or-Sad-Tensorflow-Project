{
  "nbformat": 4,
  "nbformat_minor": 0,
  "metadata": {
    "colab": {
      "name": "Happy or Sad Tensorflow Project.ipynb",
      "provenance": [],
      "collapsed_sections": []
    },
    "kernelspec": {
      "name": "python3",
      "display_name": "Python 3"
    }
  },
  "cells": [
    {
      "cell_type": "code",
      "metadata": {
        "colab": {
          "base_uri": "https://localhost:8080/"
        },
        "id": "4WQt7qKGKklg",
        "outputId": "34edd182-82c1-4fac-e7fe-91d534a2b067"
      },
      "source": [
        "import tensorflow as tf\r\n",
        "import os\r\n",
        "import zipfile\r\n",
        "\r\n",
        "\r\n",
        "DESIRED_ACCURACY = 0.999\r\n",
        "\r\n",
        "!wget --no-check-certificate \\\r\n",
        "    \"https://storage.googleapis.com/laurencemoroney-blog.appspot.com/happy-or-sad.zip\" \\\r\n",
        "    -O \"/tmp/happy-or-sad.zip\"\r\n",
        "\r\n",
        "zip_ref = zipfile.ZipFile(\"/tmp/happy-or-sad.zip\", 'r')\r\n",
        "zip_ref.extractall(\"/tmp/h-or-s\")\r\n",
        "zip_ref.close()\r\n",
        "\r\n",
        "class myCallback(tf.keras.callbacks.Callback):\r\n",
        "  def on_epoch_end(self, epoch, logs={}):\r\n",
        "    if (logs.get('acc') > DESIRED_ACCURACY):\r\n",
        "      print('\\nDesired Accuracy is met, Stopping training...')\r\n",
        "      self.model.stop_training = True\r\n",
        "\r\n",
        "callbacks = myCallback()"
      ],
      "execution_count": 1,
      "outputs": [
        {
          "output_type": "stream",
          "text": [
            "--2021-03-13 15:18:10--  https://storage.googleapis.com/laurencemoroney-blog.appspot.com/happy-or-sad.zip\n",
            "Resolving storage.googleapis.com (storage.googleapis.com)... 64.233.170.128, 172.217.193.128, 172.217.204.128, ...\n",
            "Connecting to storage.googleapis.com (storage.googleapis.com)|64.233.170.128|:443... connected.\n",
            "HTTP request sent, awaiting response... 200 OK\n",
            "Length: 2670333 (2.5M) [application/zip]\n",
            "Saving to: ‘/tmp/happy-or-sad.zip’\n",
            "\n",
            "/tmp/happy-or-sad.z 100%[===================>]   2.55M  --.-KB/s    in 0.02s   \n",
            "\n",
            "2021-03-13 15:18:10 (105 MB/s) - ‘/tmp/happy-or-sad.zip’ saved [2670333/2670333]\n",
            "\n"
          ],
          "name": "stdout"
        }
      ]
    },
    {
      "cell_type": "code",
      "metadata": {
        "id": "2JHaQ7OFKpiz"
      },
      "source": [
        "# This Code Block should Define and Compile the Model\r\n",
        "model = tf.keras.models.Sequential([\r\n",
        "    tf.keras.layers.Conv2D(64, (3,3), activation='relu', input_shape=(150, 150, 3)),\r\n",
        "    tf.keras.layers.MaxPooling2D(2, 2),\r\n",
        "    tf.keras.layers.Conv2D(64, (3,3), activation='relu'),\r\n",
        "    tf.keras.layers.MaxPooling2D(2, 2),\r\n",
        "    tf.keras.layers.Conv2D(64, (3,3), activation='relu'),\r\n",
        "    tf.keras.layers.MaxPooling2D(2, 2),\r\n",
        "    tf.keras.layers.Flatten(),\r\n",
        "    tf.keras.layers.Dense(128, activation='relu'),\r\n",
        "    tf.keras.layers.Dense(1, activation='sigmoid')\r\n",
        "])\r\n",
        "\r\n",
        "from tensorflow.keras.optimizers import RMSprop\r\n",
        "\r\n",
        "model.compile(loss='binary_crossentropy', optimizer='adam', metrics=['acc'])"
      ],
      "execution_count": 3,
      "outputs": []
    },
    {
      "cell_type": "code",
      "metadata": {
        "colab": {
          "base_uri": "https://localhost:8080/"
        },
        "id": "5y9ez_e1KtRY",
        "outputId": "28591b72-4771-461d-b9b3-2a7c5e06b148"
      },
      "source": [
        "# This code block should create an instance of an ImageDataGenerator called train_datagen \r\n",
        "# And a train_generator by calling train_datagen.flow_from_directory\r\n",
        "\r\n",
        "from tensorflow.keras.preprocessing.image import ImageDataGenerator\r\n",
        "\r\n",
        "train_datagen = ImageDataGenerator(rescale=1/255.0)\r\n",
        "\r\n",
        "train_generator = train_datagen.flow_from_directory(\r\n",
        "    '/tmp/h-or-s/', \r\n",
        "    target_size=(150,150), \r\n",
        "    batch_size=80, \r\n",
        "    class_mode='binary')\r\n",
        "\r\n",
        "# Expected output: 'Found 80 images belonging to 2 classes'"
      ],
      "execution_count": 4,
      "outputs": [
        {
          "output_type": "stream",
          "text": [
            "Found 80 images belonging to 2 classes.\n"
          ],
          "name": "stdout"
        }
      ]
    },
    {
      "cell_type": "code",
      "metadata": {
        "colab": {
          "base_uri": "https://localhost:8080/"
        },
        "id": "ifnWJV9JKwsy",
        "outputId": "8c8e7701-d467-491a-9373-40fe8e167054"
      },
      "source": [
        "# This code block should call model.fit_generator and train for\r\n",
        "# a number of epochs. \r\n",
        "history = model.fit_generator(\r\n",
        "    train_generator,\r\n",
        "    steps_per_epoch=1,  \r\n",
        "    epochs=30,\r\n",
        "    verbose=1, \r\n",
        "    callbacks=[callbacks])\r\n",
        "    \r\n",
        "# Expected output: \"Reached 99.9% accuracy so cancelling training!\"\""
      ],
      "execution_count": null,
      "outputs": [
        {
          "output_type": "stream",
          "text": [
            "/usr/local/lib/python3.7/dist-packages/tensorflow/python/keras/engine/training.py:1844: UserWarning: `Model.fit_generator` is deprecated and will be removed in a future version. Please use `Model.fit`, which supports generators.\n",
            "  warnings.warn('`Model.fit_generator` is deprecated and '\n"
          ],
          "name": "stderr"
        },
        {
          "output_type": "stream",
          "text": [
            "Epoch 1/30\n",
            "1/1 [==============================] - 6s 6s/step - loss: 0.6941 - acc: 0.5000\n",
            "Epoch 2/30\n",
            "1/1 [==============================] - 4s 4s/step - loss: 0.8750 - acc: 0.5000\n",
            "Epoch 3/30\n",
            "1/1 [==============================] - 4s 4s/step - loss: 0.7437 - acc: 0.5000\n",
            "Epoch 4/30\n",
            "1/1 [==============================] - 4s 4s/step - loss: 0.6745 - acc: 0.5000\n",
            "Epoch 5/30\n",
            "1/1 [==============================] - 4s 4s/step - loss: 0.6187 - acc: 0.9625\n",
            "Epoch 6/30\n",
            "1/1 [==============================] - 4s 4s/step - loss: 0.6054 - acc: 0.5000\n",
            "Epoch 7/30\n",
            "1/1 [==============================] - 4s 4s/step - loss: 0.5368 - acc: 0.7500\n",
            "Epoch 8/30\n",
            "1/1 [==============================] - 4s 4s/step - loss: 0.4557 - acc: 0.9375\n",
            "Epoch 9/30\n"
          ],
          "name": "stdout"
        }
      ]
    }
  ]
}